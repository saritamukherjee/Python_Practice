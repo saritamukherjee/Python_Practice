{
 "cells": [
  {
   "cell_type": "code",
   "execution_count": 1,
   "metadata": {},
   "outputs": [
    {
     "name": "stdout",
     "output_type": "stream",
     "text": [
      "The sum of 1 and 6 is 7\n"
     ]
    }
   ],
   "source": [
    "#1. Sum of two nos\n",
    "num1=1\n",
    "num2=6\n",
    "sum = num1+num2\n",
    "print(\"The sum of {0} and {1} is {2}\".format(num1,num2,sum))\n"
   ]
  },
  {
   "cell_type": "code",
   "execution_count": 3,
   "metadata": {},
   "outputs": [
    {
     "name": "stdout",
     "output_type": "stream",
     "text": [
      "First Number :289999.1\n",
      "second number12121\n",
      "302120.1\n"
     ]
    }
   ],
   "source": [
    "#2.Sum of two nos with input\n",
    "n1 = input(\"First Number :\")\n",
    "n2 = input(\"Second number\")\n",
    "sum = float(n1) +float(n2)\n",
    "print(sum)"
   ]
  },
  {
   "cell_type": "code",
   "execution_count": 4,
   "metadata": {},
   "outputs": [
    {
     "name": "stdout",
     "output_type": "stream",
     "text": [
      "First Number :7\n",
      "49.0\n"
     ]
    }
   ],
   "source": [
    "#Square of a number\n",
    "n1 = input(\"First Number :\")\n",
    "square = float(n1)*float(n1)\n",
    "print(square)"
   ]
  },
  {
   "cell_type": "code",
   "execution_count": 4,
   "metadata": {},
   "outputs": [
    {
     "data": {
      "text/plain": [
       "720"
      ]
     },
     "execution_count": 4,
     "metadata": {},
     "output_type": "execute_result"
    }
   ],
   "source": [
    "#factorial of a number\n",
    "def factorial(num):\n",
    "    if num==0 or num==1:\n",
    "        return 1;\n",
    "    elif num<0:\n",
    "        return 0\n",
    "    else:\n",
    "        return num*factorial(num-1)\n",
    "n=6\n",
    "factorial(n)\n"
   ]
  },
  {
   "cell_type": "code",
   "execution_count": 6,
   "metadata": {},
   "outputs": [
    {
     "name": "stdout",
     "output_type": "stream",
     "text": [
      "600.0\n"
     ]
    }
   ],
   "source": [
    "#SIMPLE INTEREST\n",
    "principal=5000\n",
    "rate = 4\n",
    "time=3\n",
    "simple_interest = (principal*rate*time)/100\n",
    "print(simple_interest)"
   ]
  },
  {
   "cell_type": "code",
   "execution_count": 10,
   "metadata": {},
   "outputs": [
    {
     "name": "stdout",
     "output_type": "stream",
     "text": [
      "624.3200000000006\n"
     ]
    }
   ],
   "source": [
    "#Compound Interest\n",
    "principal=5000\n",
    "rate = 4\n",
    "time=3\n",
    "compound_interest = principal*(pow((1+rate/100),time))-principal\n",
    "print(compound_interest)"
   ]
  },
  {
   "cell_type": "code",
   "execution_count": 11,
   "metadata": {},
   "outputs": [
    {
     "name": "stdout",
     "output_type": "stream",
     "text": [
      "78.57142857142857\n"
     ]
    }
   ],
   "source": [
    "#Area of circle\n",
    "radius = 5;\n",
    "pi = 22/7\n",
    "area=pi*radius*radius\n",
    "print(area)\n"
   ]
  },
  {
   "cell_type": "code",
   "execution_count": 18,
   "metadata": {},
   "outputs": [
    {
     "name": "stdout",
     "output_type": "stream",
     "text": [
      "11\n",
      "13\n",
      "17\n",
      "19\n",
      "23\n"
     ]
    }
   ],
   "source": [
    "# Print the Prime numbers within a selected range\n",
    "start = 11\n",
    "end = 25\n",
    "  \n",
    "for i in range(start, end+1):\n",
    "    if i>1:\n",
    "        for j in range(2,i):\n",
    "            if(i % j==0):\n",
    "                break\n",
    "        else:\n",
    "            print(i)"
   ]
  },
  {
   "cell_type": "code",
   "execution_count": 28,
   "metadata": {},
   "outputs": [
    {
     "name": "stdout",
     "output_type": "stream",
     "text": [
      "Prime\n"
     ]
    }
   ],
   "source": [
    "#program to check whether a number is prime or not:\n",
    "number=17\n",
    "if(i>1):\n",
    "    for i in range(2,number-1):\n",
    "        if number%i==0:\n",
    "            flag=1\n",
    "            break;\n",
    "        else:\n",
    "            flag=0\n",
    "    if(flag==1):\n",
    "        print(\"Not Prime\")\n",
    "    else:\n",
    "        print(\"Prime\")\n",
    "else:\n",
    "    print(\"Not prime\")"
   ]
  },
  {
   "cell_type": "code",
   "execution_count": 29,
   "metadata": {},
   "outputs": [
    {
     "name": "stdout",
     "output_type": "stream",
     "text": [
      "103\n"
     ]
    }
   ],
   "source": [
    "#Program to print ASCII value of a character\n",
    "c='g'\n",
    "print(ord(c))"
   ]
  },
  {
   "cell_type": "code",
   "execution_count": 32,
   "metadata": {},
   "outputs": [
    {
     "name": "stdout",
     "output_type": "stream",
     "text": [
      "14.0\n"
     ]
    }
   ],
   "source": [
    "#program for sum of square of first n natural number:\n",
    "n=3\n",
    "sum = (n*(n+1)*(2*n+1))/6\n",
    "print(sum)"
   ]
  },
  {
   "cell_type": "code",
   "execution_count": 33,
   "metadata": {},
   "outputs": [
    {
     "name": "stdout",
     "output_type": "stream",
     "text": [
      "36.0\n"
     ]
    }
   ],
   "source": [
    "#program for cube sum of first n natural number\n",
    "n=3\n",
    "sum=pow((n*(n+1)/2),2)\n",
    "print(sum)"
   ]
  },
  {
   "cell_type": "code",
   "execution_count": 37,
   "metadata": {},
   "outputs": [
    {
     "name": "stdout",
     "output_type": "stream",
     "text": [
      "10\n"
     ]
    }
   ],
   "source": [
    "#python program to find sum of an array\n",
    "n=[1,2,3,4]\n",
    "sum=0\n",
    "for i in n:\n",
    "    sum = sum+i;\n",
    "print(sum)"
   ]
  },
  {
   "cell_type": "code",
   "execution_count": 44,
   "metadata": {},
   "outputs": [
    {
     "name": "stdout",
     "output_type": "stream",
     "text": [
      "[1, 2, 111, 4]\n"
     ]
    }
   ],
   "source": [
    "#python program to find largest number in an array\n",
    "n=[1,2,111,4]\n",
    "print(n[:])\n",
    "#print(max(n))\n",
    "# r=len(n)\n",
    "# max_val=n[0]\n",
    "# for i in range(1,r):\n",
    "#     if n[i]>max_val:\n",
    "#         max_val=n[i]\n",
    "# print(max_val)"
   ]
  },
  {
   "cell_type": "code",
   "execution_count": 46,
   "metadata": {},
   "outputs": [
    {
     "data": {
      "text/plain": [
       "[3, 4, 5, 6, 1, 2]"
      ]
     },
     "execution_count": 46,
     "metadata": {},
     "output_type": "execute_result"
    }
   ],
   "source": [
    "#python program for array rotation\n",
    "def rotate_list(arr,d,n):\n",
    "    arr[:] = arr[d:n]+ arr[0:d]\n",
    "    return arr\n",
    "arr=[1,2,3,4,5,6]\n",
    "d=2\n",
    "n=len(arr)\n",
    "rotate_list(arr,d,n)"
   ]
  },
  {
   "cell_type": "code",
   "execution_count": 52,
   "metadata": {},
   "outputs": [
    {
     "data": {
      "text/plain": [
       "[4, 5, 6, 1, 2, 3]"
      ]
     },
     "execution_count": 52,
     "metadata": {},
     "output_type": "execute_result"
    }
   ],
   "source": [
    "#Python program to split the array and add the first part to the end\n",
    "def rotate_split(arr,d,n):\n",
    "    arr[:] = arr[d:n]+ arr[0:d]\n",
    "    return arr\n",
    "arr=[1,2,3,4,5,6]\n",
    "n=len(arr)\n",
    "d=int(n/2)\n",
    "rotate_split(arr,d,n)"
   ]
  },
  {
   "cell_type": "code",
   "execution_count": 60,
   "metadata": {},
   "outputs": [
    {
     "name": "stdout",
     "output_type": "stream",
     "text": [
      "24\n"
     ]
    },
    {
     "data": {
      "text/plain": [
       "12.0"
      ]
     },
     "execution_count": 60,
     "metadata": {},
     "output_type": "execute_result"
    }
   ],
   "source": [
    "#python program to find reminder of array multiplication divided by n\n",
    "def arr_res(arr,n):\n",
    "    mul=1\n",
    "    for i in range(0,len(arr)):\n",
    "        mul = mul*arr[i]\n",
    "    res=mul/n\n",
    "    return res\n",
    "arr=[1,2,3,4]\n",
    "n=2\n",
    "arr_res(arr,n)"
   ]
  },
  {
   "cell_type": "code",
   "execution_count": 61,
   "metadata": {},
   "outputs": [
    {
     "name": "stdout",
     "output_type": "stream",
     "text": [
      "True\n"
     ]
    }
   ],
   "source": [
    "#Program to check if given array is monotonic\n",
    "def isMonotonic(A):\n",
    "  \n",
    "    return (all(A[i] <= A[i + 1] for i in range(len(A) - 1)) or\n",
    "            all(A[i] >= A[i + 1] for i in range(len(A) - 1)))\n",
    "A = [6, 5, 4, 4]\n",
    "# Print required result\n",
    "print(isMonotonic(A))\n"
   ]
  },
  {
   "cell_type": "code",
   "execution_count": 5,
   "metadata": {},
   "outputs": [
    {
     "name": "stdout",
     "output_type": "stream",
     "text": [
      "[4, 2, 3, 1]\n"
     ]
    }
   ],
   "source": [
    "#interchange first and last term in a list\n",
    "a=[1,2,3,4]\n",
    "temp=a[0]\n",
    "a[0]=a[len(a)-1]\n",
    "a[len(a)-1]=temp\n",
    "print(a)\n"
   ]
  },
  {
   "cell_type": "code",
   "execution_count": 10,
   "metadata": {},
   "outputs": [
    {
     "data": {
      "text/plain": [
       "[22, 11, 44, 33]"
      ]
     },
     "execution_count": 10,
     "metadata": {},
     "output_type": "execute_result"
    }
   ],
   "source": [
    "#python program to swap two elements in a list\n",
    "def swap_no(list_n,pos_a,pos_b):\n",
    "    temp=list_n[pos_a]\n",
    "    list_n[pos_a] = list_n[pos_b]\n",
    "    list_n[pos_b]=temp\n",
    "    return list_n\n",
    "list_n=[22,33,44,11]\n",
    "a=1\n",
    "b=3\n",
    "swap_no(list_n,a,b)"
   ]
  },
  {
   "cell_type": "code",
   "execution_count": 11,
   "metadata": {},
   "outputs": [
    {
     "data": {
      "text/plain": [
       "6"
      ]
     },
     "execution_count": 11,
     "metadata": {},
     "output_type": "execute_result"
    }
   ],
   "source": [
    "#find the length of the list naive way\n",
    "def length_list(list_ex):\n",
    "    count=0\n",
    "    for i in list_ex:\n",
    "        count = count+1\n",
    "    return count\n",
    "list_ex=[11,5,9,7,5,98]\n",
    "length_list(list_ex)\n",
    "    \n",
    "        "
   ]
  },
  {
   "cell_type": "code",
   "execution_count": 29,
   "metadata": {},
   "outputs": [
    {
     "name": "stdout",
     "output_type": "stream",
     "text": [
      "Number exist\n"
     ]
    }
   ],
   "source": [
    "#check whether element exist in the list\n",
    "def exist_list(list_ex,number):\n",
    "    count=0\n",
    "    for i in range(0,len(list_ex)):\n",
    "        if list_ex[i]==number:\n",
    "            count=1\n",
    "            break\n",
    "    return count\n",
    "list_ex = [1,2,3,4,5]\n",
    "number = 5\n",
    "count=exist_list(list_ex,number)\n",
    "if count==1:\n",
    "    print(\"Number exist\")\n",
    "else:\n",
    "    print(\"Number doesnt exist\")\n",
    "    "
   ]
  },
  {
   "cell_type": "code",
   "execution_count": 15,
   "metadata": {},
   "outputs": [
    {
     "name": "stdout",
     "output_type": "stream",
     "text": [
      "[12, 21, 11, 22, 333]\n",
      "[]\n"
     ]
    }
   ],
   "source": [
    "#ways to clear a list:\n",
    "geek=[12,21,11,22,333]\n",
    "print(geek)\n",
    "geek.clear()\n",
    "print(geek)\n"
   ]
  },
  {
   "cell_type": "code",
   "execution_count": 22,
   "metadata": {},
   "outputs": [
    {
     "name": "stdout",
     "output_type": "stream",
     "text": [
      "[333, 22, 11, 21, 12]\n",
      "[5, 4, 3, 2, 1]\n"
     ]
    }
   ],
   "source": [
    "#reversing a list in list\n",
    "geek=[12,21,11,22,333]\n",
    "geek.reverse()\n",
    "print(geek)\n",
    "#slicing techinique\n",
    "list_ex = [1,2,3,4,5]\n",
    "new_list=list_ex[::-1]\n",
    "print(new_list)"
   ]
  },
  {
   "cell_type": "code",
   "execution_count": 27,
   "metadata": {},
   "outputs": [
    {
     "data": {
      "text/plain": [
       "15"
      ]
     },
     "execution_count": 27,
     "metadata": {},
     "output_type": "execute_result"
    }
   ],
   "source": [
    "#sum of elements in list\n",
    "def list_sum(list_ex):\n",
    "    sum=0\n",
    "    for i in range(0,len(list_ex)):\n",
    "        sum=sum+list_ex[i]\n",
    "    return sum\n",
    "list_ex = [1,2,3,4,5]\n",
    "list_sum(list_ex)"
   ]
  },
  {
   "cell_type": "code",
   "execution_count": 32,
   "metadata": {},
   "outputs": [
    {
     "data": {
      "text/plain": [
       "120"
      ]
     },
     "execution_count": 32,
     "metadata": {},
     "output_type": "execute_result"
    }
   ],
   "source": [
    "#multiply of elements in list\n",
    "def list_mul(list_ex):\n",
    "    mul=1\n",
    "    for i in range(0,len(list_ex)):\n",
    "        mul=mul*list_ex[i]\n",
    "    return mul\n",
    "list_ex = [1,2,3,4,5]\n",
    "list_mul(list_ex)"
   ]
  },
  {
   "cell_type": "code",
   "execution_count": 42,
   "metadata": {},
   "outputs": [
    {
     "data": {
      "text/plain": [
       "20"
      ]
     },
     "execution_count": 42,
     "metadata": {},
     "output_type": "execute_result"
    }
   ],
   "source": [
    "#Python program to find smallest number in a list\n",
    "# def list_min(list_ex):\n",
    "#     val=min(list_ex)\n",
    "#     return val\n",
    "# list_ex = [111,2,3,4,5]\n",
    "# list_min(list_ex)\n",
    "#Naive method\n",
    "def list1_min(list_ex):\n",
    "    temp=list_ex[0]\n",
    "    for i in range(0,len(list_ex)):\n",
    "        if(list_ex[i]<temp):\n",
    "            temp=list_ex[i]\n",
    "    return temp\n",
    "list_ex1 = [111,20,30,41,51]\n",
    "list_min(list_ex1)"
   ]
  },
  {
   "cell_type": "code",
   "execution_count": 48,
   "metadata": {},
   "outputs": [
    {
     "data": {
      "text/plain": [
       "51"
      ]
     },
     "execution_count": 48,
     "metadata": {},
     "output_type": "execute_result"
    }
   ],
   "source": [
    "#Python program to find largest number in a list\n",
    "def list_max(list_ex):\n",
    "    temp=list_ex[0]\n",
    "    for i in range(0,len(list_ex)):\n",
    "        if(list_ex[i]>temp):\n",
    "            temp=list_ex[i]\n",
    "    return temp\n",
    "list_ex1 = [11,20,30,41,51]\n",
    "list_max(list_ex1)"
   ]
  },
  {
   "cell_type": "code",
   "execution_count": 54,
   "metadata": {},
   "outputs": [
    {
     "data": {
      "text/plain": [
       "[11, 20, 30, 41]"
      ]
     },
     "execution_count": 54,
     "metadata": {},
     "output_type": "execute_result"
    }
   ],
   "source": [
    "#program-to-find-n-largest-elements-from-a-list\n",
    "def list_max(list_ex,n):\n",
    "    list_ex.sort()\n",
    "    temp=list_ex[0:n]\n",
    "    return temp\n",
    "list_ex1 = [11,20,30,41,51]\n",
    "n=4\n",
    "list_max(list_ex1,n)"
   ]
  },
  {
   "cell_type": "code",
   "execution_count": 57,
   "metadata": {},
   "outputs": [
    {
     "data": {
      "text/plain": [
       "[20, 30]"
      ]
     },
     "execution_count": 57,
     "metadata": {},
     "output_type": "execute_result"
    }
   ],
   "source": [
    "#Python program to print even number in a list\n",
    "def list_even(list_ex):\n",
    "    even_list=[]\n",
    "    for i in list_ex:\n",
    "        if(i%2==0):\n",
    "            even_list.append(i)\n",
    "    return even_list\n",
    "list_ex1 = [11,20,30,41,51]\n",
    "list_even(list_ex1)"
   ]
  },
  {
   "cell_type": "code",
   "execution_count": 65,
   "metadata": {},
   "outputs": [
    {
     "data": {
      "text/plain": [
       "[11, 41, 51]"
      ]
     },
     "execution_count": 65,
     "metadata": {},
     "output_type": "execute_result"
    }
   ],
   "source": [
    "#Python program to print odd number in a list\n",
    "def list_odd(list_ex):\n",
    "    odd_list=[]\n",
    "    for i in list_ex:\n",
    "        if(i%2!=0):\n",
    "            odd_list.append(i)\n",
    "    return odd_list\n",
    "list_ex1 = [11,20,30,41,51]\n",
    "list_odd(list_ex1)"
   ]
  },
  {
   "cell_type": "code",
   "execution_count": 66,
   "metadata": {},
   "outputs": [
    {
     "data": {
      "text/plain": [
       "[20, 41, 51]"
      ]
     },
     "execution_count": 66,
     "metadata": {},
     "output_type": "execute_result"
    }
   ],
   "source": [
    "#Python program to print all positive number in a list\n",
    "def list_pos(list_ex):\n",
    "    pos_list=[]\n",
    "    for i in list_ex:\n",
    "        if(i>=0):\n",
    "            pos_list.append(i)\n",
    "    return pos_list\n",
    "list_ex1 = [-11,20,-30,41,51]\n",
    "list_pos(list_ex1)"
   ]
  },
  {
   "cell_type": "code",
   "execution_count": 67,
   "metadata": {},
   "outputs": [
    {
     "data": {
      "text/plain": [
       "[-11, -30]"
      ]
     },
     "execution_count": 67,
     "metadata": {},
     "output_type": "execute_result"
    }
   ],
   "source": [
    "#Python program to print all negative number in a list\n",
    "def list_neg(list_ex):\n",
    "    neg_list=[]\n",
    "    for i in list_ex:\n",
    "        if(i<0):\n",
    "            neg_list.append(i)\n",
    "    return neg_list\n",
    "list_ex1 = [-11,20,-30,41,51]\n",
    "list_neg(list_ex1)"
   ]
  },
  {
   "cell_type": "code",
   "execution_count": 69,
   "metadata": {},
   "outputs": [
    {
     "data": {
      "text/plain": [
       "[0, 1, 2, 3, 4]"
      ]
     },
     "execution_count": 69,
     "metadata": {},
     "output_type": "execute_result"
    }
   ],
   "source": [
    "#Python program to print all positive number in a range\n",
    "def list_pos(start,end):\n",
    "    pos_list=[]\n",
    "    for i in range(start,end+1):\n",
    "        if(i>=0):\n",
    "            pos_list.append(i)\n",
    "    return pos_list\n",
    "start = -3\n",
    "end=4\n",
    "list_pos(start,end)"
   ]
  },
  {
   "cell_type": "code",
   "execution_count": 70,
   "metadata": {},
   "outputs": [
    {
     "data": {
      "text/plain": [
       "[-3, -2, -1]"
      ]
     },
     "execution_count": 70,
     "metadata": {},
     "output_type": "execute_result"
    }
   ],
   "source": [
    "#Python program to print all negative number in a range\n",
    "def list_neg(start,end):\n",
    "    neg_list=[]\n",
    "    for i in range(start,end+1):\n",
    "        if(i<0):\n",
    "            neg_list.append(i)\n",
    "    return neg_list\n",
    "start = -3\n",
    "end=4\n",
    "list_neg(start,end)"
   ]
  },
  {
   "cell_type": "code",
   "execution_count": 73,
   "metadata": {},
   "outputs": [
    {
     "data": {
      "text/plain": [
       "[1, 3, 4]"
      ]
     },
     "execution_count": 73,
     "metadata": {},
     "output_type": "execute_result"
    }
   ],
   "source": [
    "#remove multiple element from a list\n",
    "def rem_element(list_ex,rem_list):\n",
    "    for i in rem_list:\n",
    "        if i in list_ex:\n",
    "            list_ex.remove(i)\n",
    "    return list_ex\n",
    "list_ex = [1,2,3,4,5]\n",
    "rem_list=[5,2]\n",
    "rem_element(list_ex,rem_list)"
   ]
  },
  {
   "cell_type": "code",
   "execution_count": 75,
   "metadata": {},
   "outputs": [
    {
     "data": {
      "text/plain": [
       "[100, 2, 22, 4, 5]"
      ]
     },
     "execution_count": 75,
     "metadata": {},
     "output_type": "execute_result"
    }
   ],
   "source": [
    "#remove empty list from a list\n",
    "def rem_emptyList(list_ex):\n",
    "    for i in list_ex:\n",
    "        if i ==[]:\n",
    "            list_ex.remove(i)\n",
    "    return list_ex\n",
    "list_ex = [100,2,22,[],4,5,[]]\n",
    "rem_emptyList(list_ex)"
   ]
  },
  {
   "cell_type": "code",
   "execution_count": null,
   "metadata": {},
   "outputs": [],
   "source": [
    "#copying a list"
   ]
  },
  {
   "cell_type": "code",
   "execution_count": 76,
   "metadata": {},
   "outputs": [
    {
     "name": "stdout",
     "output_type": "stream",
     "text": [
      "[1, 2, 3, 4, 2]\n"
     ]
    }
   ],
   "source": [
    "list_x=[1,2,3,4,2]\n",
    "list_y=list_x\n",
    "print(list_y)"
   ]
  },
  {
   "cell_type": "code",
   "execution_count": 78,
   "metadata": {},
   "outputs": [
    {
     "data": {
      "text/plain": [
       "1"
      ]
     },
     "execution_count": 78,
     "metadata": {},
     "output_type": "execute_result"
    }
   ],
   "source": [
    "#count occurence of an element in a list\n",
    "def count_list(list_ex,number):\n",
    "    count=0\n",
    "    for i in list_ex:\n",
    "        if i ==number:\n",
    "            count=count+1\n",
    "    return count\n",
    "list_ex = [100,2,22,4,5,2,2]\n",
    "number=22\n",
    "count_list(list_ex,number)"
   ]
  },
  {
   "cell_type": "code",
   "execution_count": 80,
   "metadata": {},
   "outputs": [
    {
     "data": {
      "text/plain": [
       "[('ram', '15', '8'), ('laxman', 'sita'), ('krishna', 'akbar', '45'), ('', '')]"
      ]
     },
     "execution_count": 80,
     "metadata": {},
     "output_type": "execute_result"
    }
   ],
   "source": [
    "#remove empty tuples from a list\n",
    "def tuples(list_ex):\n",
    "    new_list=[]\n",
    "    for i in list_ex:\n",
    "        if i!=():\n",
    "            new_list.append(i)\n",
    "    return new_list\n",
    "list_ex = [(), ('ram','15','8'), (), ('laxman', 'sita'), \n",
    "          ('krishna', 'akbar', '45'), ('',''),()]\n",
    "tuples(list_ex)"
   ]
  },
  {
   "cell_type": "code",
   "execution_count": 89,
   "metadata": {},
   "outputs": [
    {
     "data": {
      "text/plain": [
       "[1, 4]"
      ]
     },
     "execution_count": 89,
     "metadata": {},
     "output_type": "execute_result"
    }
   ],
   "source": [
    "#program to print duplicates from a list of integers\n",
    "def duplicate(list_ex):\n",
    "    new_list=[] \n",
    "    list_ex.sort()\n",
    "    for i in range(0,len(list_ex)-1):\n",
    "        if list_ex[i]==list_ex[i+1]:\n",
    "            new_list.append(list_ex[i])\n",
    "    return new_list\n",
    "list_ex=[1,2,3,1,4,4]\n",
    "duplicate(list_ex)"
   ]
  },
  {
   "cell_type": "code",
   "execution_count": 91,
   "metadata": {},
   "outputs": [
    {
     "name": "stdout",
     "output_type": "stream",
     "text": [
      "[10, 30, 60, 100]\n"
     ]
    }
   ],
   "source": [
    "#program to find the cumulative sum of a list\n",
    "#Input[10,20,30,40]\n",
    "#Output[10,30,60,100]\n",
    "input_list=[10,20,30,40]\n",
    "sum=0\n",
    "new_list=[]\n",
    "for i in input_list:\n",
    "    sum=sum+i\n",
    "    new_list.append(sum)\n",
    "print(new_list)"
   ]
  },
  {
   "cell_type": "code",
   "execution_count": 98,
   "metadata": {},
   "outputs": [
    {
     "name": "stdout",
     "output_type": "stream",
     "text": [
      "[10, 7, 11, 22]\n"
     ]
    }
   ],
   "source": [
    "#sum of number digits in list\n",
    "input_list=[19,25,38,499]\n",
    "new_list=[]\n",
    "for i in input_list:\n",
    "    sum=0\n",
    "    for digit in str(i):\n",
    "        sum+=int(digit)\n",
    "    new_list.append(sum)\n",
    "print(new_list)"
   ]
  },
  {
   "cell_type": "code",
   "execution_count": null,
   "metadata": {},
   "outputs": [],
   "source": [
    "#Break a list into chunks of size n\n",
    "my_list = ['geeks', 'for', 'geeks', 'like',\n",
    "           'geeky','nerdy', 'geek', 'love',\n",
    "               'questions','words', 'life']\n",
    "n=5\n",
    "\n",
    "    "
   ]
  },
  {
   "cell_type": "code",
   "execution_count": 100,
   "metadata": {},
   "outputs": [
    {
     "name": "stdout",
     "output_type": "stream",
     "text": [
      "[0, 1, 1, 0, 1, 2, 2, 0, 1]\n"
     ]
    }
   ],
   "source": [
    "#sort the values of one list using the second\n",
    "list1 = [\"a\", \"b\", \"c\", \"d\", \"e\", \"f\", \"g\", \"h\", \"i\"]\n",
    "list2 = [ 0,   1,   1,    0,   1,   2,   2,   0,   1]\n",
    "#output - [a,d,h,c,i,f,g]\n",
    "for i in list2:\n",
    "    "
   ]
  },
  {
   "cell_type": "code",
   "execution_count": null,
   "metadata": {},
   "outputs": [],
   "source": []
  }
 ],
 "metadata": {
  "kernelspec": {
   "display_name": "Python 3",
   "language": "python",
   "name": "python3"
  },
  "language_info": {
   "codemirror_mode": {
    "name": "ipython",
    "version": 3
   },
   "file_extension": ".py",
   "mimetype": "text/x-python",
   "name": "python",
   "nbconvert_exporter": "python",
   "pygments_lexer": "ipython3",
   "version": "3.8.5"
  }
 },
 "nbformat": 4,
 "nbformat_minor": 4
}
